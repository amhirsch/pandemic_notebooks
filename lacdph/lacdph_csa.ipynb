{
 "cells": [
  {
   "cell_type": "code",
   "execution_count": null,
   "id": "d1e32e87-4a55-4d97-83b6-2b124ac08d8a",
   "metadata": {},
   "outputs": [],
   "source": [
    "import json\n",
    "import os\n",
    "import geopandas\n",
    "import pandas as pd\n",
    "import numpy as np\n",
    "import plotly.express as px\n",
    "DATE = 'date'\n",
    "AREA = 'area'\n",
    "px.set_mapbox_access_token(os.environ['MAPBOXKEY_CAVAX'])"
   ]
  },
  {
   "cell_type": "code",
   "execution_count": null,
   "id": "8d780afe-f2f9-40d3-9519-1ec244065734",
   "metadata": {},
   "outputs": [],
   "source": [
    "df_7day_orig, df_14day_orig = [\n",
    "    pd.read_csv(\n",
    "        f'LA_County_Covid19_CSA_{x}day_case_death_table.csv',\n",
    "        parse_dates=['ep_date'],\n",
    "        infer_datetime_format=True\n",
    "    )\n",
    "    .drop(columns='Unnamed: 0')\n",
    "    .rename(columns={'ep_date': DATE, 'geo_merge': AREA})\n",
    "    .sort_values([DATE, AREA])\n",
    "    .reset_index(drop=True)\n",
    "    for x in (7, 14)\n",
    "]\n",
    "df_7day_orig = df_7day_orig[df_7day_orig[DATE].notna()]\n",
    "df_14day_orig = df_14day_orig[df_14day_orig[DATE].notna()]\n",
    "for df in (df_7day_orig, df_14day_orig):\n",
    "    for col in ('case_rate_unstable', 'death_rate_unstable'):\n",
    "        df[col] = (df[col]=='^').astype(bool)\n",
    "    df[AREA] = df[AREA].convert_dtypes()\n",
    "    df['population'] = df['population'].astype('int')\n",
    "for col in df_7day_orig:\n",
    "    if '7day' in col:\n",
    "        df_7day_orig[col] = (df_7day_orig[col] / 7).round(1)\n",
    "for col in df_14day_orig:\n",
    "    if '14day' in col:\n",
    "        df_14day_orig[col] = (df_14day_orig[col] / 14).round(1)"
   ]
  },
  {
   "cell_type": "code",
   "execution_count": null,
   "id": "8bd39570-e9da-47e9-a9bc-cc05a068dfb4",
   "metadata": {},
   "outputs": [],
   "source": [
    "# df_csa = (\n",
    "#     geopandas.read_file('lac-csa.geojson')\n",
    "#     [['LABEL', 'geometry']]\n",
    "#     .copy()\n",
    "#     .rename(columns={'LABEL': AREA})\n",
    "# )\n",
    "# df_csa[AREA] = df_csa[AREA].convert_dtypes()\n",
    "# df_csa = df_csa.set_index(AREA)\n",
    "with open('csa.geojson') as f:\n",
    "    lac_csa = json.load(f)\n",
    "    "
   ]
  },
  {
   "cell_type": "code",
   "execution_count": null,
   "id": "3160092a-bcb7-4242-8d3f-33d651aeebc7",
   "metadata": {},
   "outputs": [],
   "source": [
    "df_plot = df_14day_orig[[DATE, AREA, 'case_14day_rate']].copy()\n",
    "df_plot = df_plot[df_plot[AREA].isin(df_csa.index.unique())]\n",
    "df_plot = df_plot[df_plot[DATE]==df_plot[DATE].max()]\n",
    "# df_plot = df_plot[df_plot[AREA]!='Unincorporated - Stevenson Ranch']\n",
    "# df_plot = df_plot[df_plot[AREA].apply(lambda x: 'Unincorporated' in x)]\n",
    "# df_plot = df_plot[df_plot[AREA].isin(test_areas)]\n",
    "# df_plot = df_plot[df_plot[AREA]=='City of Lancaster']\n",
    "# df_plot = df_plot[df_plot[DATE].apply(lambda x: x.day == 1)]\n",
    "# df_plot[DATE] = df_plot[DATE].apply(lambda x: x.strftime('%Y-%m-%d'))"
   ]
  }
 ],
 "metadata": {
  "kernelspec": {
   "display_name": "Python 3",
   "language": "python",
   "name": "python3"
  },
  "language_info": {
   "codemirror_mode": {
    "name": "ipython",
    "version": 3
   },
   "file_extension": ".py",
   "mimetype": "text/x-python",
   "name": "python",
   "nbconvert_exporter": "python",
   "pygments_lexer": "ipython3",
   "version": "3.8.2"
  }
 },
 "nbformat": 4,
 "nbformat_minor": 5
}
